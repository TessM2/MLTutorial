{
  "nbformat": 4,
  "nbformat_minor": 0,
  "metadata": {
    "colab": {
      "provenance": [],
      "authorship_tag": "ABX9TyNtcYuDAO/3n80Op0knKw9a",
      "include_colab_link": true
    },
    "kernelspec": {
      "name": "python3",
      "display_name": "Python 3"
    },
    "language_info": {
      "name": "python"
    }
  },
  "cells": [
    {
      "cell_type": "markdown",
      "metadata": {
        "id": "view-in-github",
        "colab_type": "text"
      },
      "source": [
        "<a href=\"https://colab.research.google.com/github/TessM2/MLTutorial/blob/main/WashUmachinelearningtutorial.ipynb\" target=\"_parent\"><img src=\"https://colab.research.google.com/assets/colab-badge.svg\" alt=\"Open In Colab\"/></a>"
      ]
    },
    {
      "cell_type": "markdown",
      "source": [
        "\n",
        "**Machine Learning: Building a Model**\n",
        "\n",
        "Today we're going to walk through the process of training a machine learning model to make some predictions.\n",
        "\n",
        "We're going to train a model to predict whether people will (or \"should,\" from the perspective of a bank or lender) receive a loan or not, based on some data we already have about people who did and did not receive loans.\n",
        "\n",
        "But first, before we can \"do\" Machine Learning, we have to understand a bit about Python....\n"
      ],
      "metadata": {
        "id": "T-PUD7vQqeGR"
      }
    },
    {
      "cell_type": "markdown",
      "source": [
        "**The world's briefest introduction to Python**"
      ],
      "metadata": {
        "id": "KDeU8WxedMVI"
      }
    },
    {
      "cell_type": "markdown",
      "source": [
        "First of all, the thing we're writing in right now: this is called a **notebook**; it's the place where we write code. This notebook is run by google colab.\n",
        "\n",
        "Each panel in this notebook, like the one right below this note, is called a \"cell\"; we write code in cells. To add a new cell, press the +Code button. Go ahead and add a new cell below the blank cell below"
      ],
      "metadata": {
        "id": "Mj52mYrddjpR"
      }
    },
    {
      "cell_type": "code",
      "source": [],
      "metadata": {
        "id": "pH_srr-vdV7M"
      },
      "execution_count": null,
      "outputs": []
    },
    {
      "cell_type": "markdown",
      "source": [
        "We can write two types of things in cells. First we can write code, which runs when we press the play button next to a cell. Here's a sample of a very simply line of code, that prints out a word, in quotes. The word in quotes is called a string."
      ],
      "metadata": {
        "id": "VdCIqhiDdMSc"
      }
    },
    {
      "cell_type": "code",
      "source": [
        "print(\"Hello\")"
      ],
      "metadata": {
        "id": "vNe8IdhDeRln"
      },
      "execution_count": null,
      "outputs": []
    },
    {
      "cell_type": "markdown",
      "source": [
        "Write a line of code to print a string of your name below"
      ],
      "metadata": {
        "id": "Dfw2QHdqeUoj"
      }
    },
    {
      "cell_type": "code",
      "source": [],
      "metadata": {
        "id": "ju7VxR_Yefbd"
      },
      "execution_count": null,
      "outputs": []
    },
    {
      "cell_type": "markdown",
      "source": [
        "We can also write comments after hashtags, that look like this. They will not run as code"
      ],
      "metadata": {
        "id": "94RceQBJegW_"
      }
    },
    {
      "cell_type": "code",
      "source": [
        "#Hello I'm writing something after a hashtag. What do you think this is for?"
      ],
      "metadata": {
        "id": "ytx0KJn-etzF"
      },
      "execution_count": null,
      "outputs": []
    },
    {
      "cell_type": "markdown",
      "source": [
        "Besides strings, the words in quotes that we just saw, there are also some other types of important objects in Python. There are numbers, with come in the form of integers and floats (with a decimal place). And there are also variables. Variables are words that you set equal to, or make stand for something else. Just like how in math a variable X stands for something else, a variable we set equal to something else, in Python, comes to stand for it. We do it like this:"
      ],
      "metadata": {
        "id": "Orl1uH6xe1hp"
      }
    },
    {
      "cell_type": "code",
      "source": [
        "#create variable Tess that equals 2\n",
        "Tess = 2\n",
        "#now print Tess, to show it is just a placeholder for 2\n",
        "print(Tess)\n",
        "#now add one to Tess, to make her 3\n",
        "Tess = Tess + 1\n",
        "#now print Tess to show she's 3\n",
        "print(Tess)"
      ],
      "metadata": {
        "id": "1rb9YPugez1I"
      },
      "execution_count": null,
      "outputs": []
    },
    {
      "cell_type": "markdown",
      "source": [
        "We can do a lot of things with the basic Python language. We can, for example, like I just showed you, add and do math with numbers. We can, as I just showed you, set variables equal to strings or floats/integers.\n",
        "\n",
        "One thing we often like to do is create a \"loop\" to do something over and over again, which looks like this:"
      ],
      "metadata": {
        "id": "FecCt0DYgDml"
      }
    },
    {
      "cell_type": "code",
      "source": [
        "#This loop will add 1 to Tess 5 times\n",
        "for i in range(5):\n",
        "  Tess = Tess + 1\n",
        "\n",
        "#let's print Tess, who should now be 5 bigger\n",
        "print(Tess)"
      ],
      "metadata": {
        "id": "4q5ZI-QsgWHf"
      },
      "execution_count": null,
      "outputs": []
    },
    {
      "cell_type": "markdown",
      "source": [
        "But the basic coding operations of python can't do everything. And often when we code we want to do really specific, complicated tasks. For that, we download, into python what are called packages - they're like little applications that are predesigned to do very different things. \n",
        "\n",
        "One very popular package for machine learning is called scikitlearn. Here's how we would \"import\" that package into Python, so we can use it:"
      ],
      "metadata": {
        "id": "4TufeFYfgiT7"
      }
    },
    {
      "cell_type": "code",
      "source": [
        "import sklearn"
      ],
      "metadata": {
        "id": "LJ25WBTaghm-"
      },
      "execution_count": null,
      "outputs": []
    },
    {
      "cell_type": "markdown",
      "source": [
        "**Machine Learning with Scikitlearn**\n",
        "\n",
        "OK! Now we're ready to go. We know everything about Python (joke) and we've imported scikit learn, so it's time to do some machine learning. Don't worry, you're not meant to understand this code fully (unless you already know Python); but let's see if we can at least understand the steps of the process; and maybe even a bit of the code, too.\n",
        "\n",
        "We're going to build a model, as we said, to predict people's loan status (Yes or No, for a loan)"
      ],
      "metadata": {
        "id": "7zYbpJOIe0ga"
      }
    },
    {
      "cell_type": "code",
      "execution_count": null,
      "metadata": {
        "id": "LFxUCREekIyb"
      },
      "outputs": [],
      "source": [
        "#First, let's download some packages we'll need\n",
        "\n",
        "#for tabular data manipulation\n",
        "import pandas as pd\n",
        "# for numerical compuations\n",
        "import numpy as np\n",
        "#for plotting and visualizing data\n",
        "import matplotlib.pyplot as plt\n",
        "#it's complicated; lets you use matplotlib nicely with pandas (a \"wrapper\" for matplotlib)\n",
        "import seaborn as sns\n",
        "  "
      ]
    },
    {
      "cell_type": "markdown",
      "source": [
        "**Step One: Getting the Data**\n",
        "The first thing we always need to do is get the data"
      ],
      "metadata": {
        "id": "GMDpPen9iXeT"
      }
    },
    {
      "cell_type": "code",
      "source": [
        "#Now, let's download the dataset we're going to use to train the model as a zipped archive\n",
        "import urllib.request\n",
        "urllib.request.urlretrieve(\"https://github.com/TessM2/loanpredictiondata/archive/refs/heads/main.zip\", \"dataset.zip\")\n",
        "import zipfile\n",
        "with zipfile.ZipFile(\"dataset.zip\", 'r') as zf:\n",
        "    zf.extractall()\n",
        "#Clean up after ourselves\n",
        "import os\n",
        "os.remove(\"dataset.zip\")"
      ],
      "metadata": {
        "id": "wlGZGm2rwsSr"
      },
      "execution_count": null,
      "outputs": []
    },
    {
      "cell_type": "code",
      "source": [
        "#let's get our file and take a look at it\n",
        "data = pd.read_csv('loanpredictiondata-main/LoanApprovalPrediction.csv')\n",
        "data"
      ],
      "metadata": {
        "id": "wM1jDdQmxgQw"
      },
      "execution_count": null,
      "outputs": []
    },
    {
      "cell_type": "markdown",
      "source": [
        "**Step Two: Cleaning and Examining the Data**\n",
        "\n",
        "After we get data, we have to \"clean\" it; that means put it in the forms that we need it in\n",
        "\n",
        "We also probably want to explore or look around at our data a bit, to see what to expect"
      ],
      "metadata": {
        "id": "y8lyVD4higoS"
      }
    },
    {
      "cell_type": "code",
      "source": [
        "#let's get rid of a column that won't help us\n",
        "data.drop(['Loan_ID'],axis=1,inplace=True)"
      ],
      "metadata": {
        "id": "LDH8iZzwpNqw"
      },
      "execution_count": null,
      "outputs": []
    },
    {
      "cell_type": "code",
      "source": [
        "#let's also get rid of rows that have missing values\n",
        "data.dropna(inplace=True)"
      ],
      "metadata": {
        "id": "5F0Mtg03BWj2"
      },
      "execution_count": null,
      "outputs": []
    },
    {
      "cell_type": "code",
      "source": [
        "#let's make a list of our catgeorical variables\n",
        "categorical_variables = [\"Gender\", \"Married\", \"Education\", \"Self_Employed\", \"Property_Area\", \"Loan_Status\"]"
      ],
      "metadata": {
        "id": "DXBHAqqz7R13"
      },
      "execution_count": null,
      "outputs": []
    },
    {
      "cell_type": "code",
      "source": [
        "#let's visualize all of our columns in a barplot\n",
        "\n",
        "plt.figure(figsize=(18,36))\n",
        "\n",
        "for index,variable in enumerate(categorical_variables):\n",
        "  plt.subplot(11,4,index+1)\n",
        "  sns.countplot(data=data, x = variable)"
      ],
      "metadata": {
        "id": "lWZvj2hXpd3k"
      },
      "execution_count": null,
      "outputs": []
    },
    {
      "cell_type": "markdown",
      "source": [
        "We're focusing on the categorical variables for a reason. Let's talk about why. "
      ],
      "metadata": {
        "id": "hOoU1KWbjIfL"
      }
    },
    {
      "cell_type": "code",
      "source": [
        "#change the categorical variable (or binary) columns into integer types (0,1)\n",
        "\n",
        "# Import label encoder\n",
        "from sklearn import preprocessing\n",
        "    \n",
        "# label_encoder object knows how \n",
        "# to understand word labels.\n",
        "label_encoder = preprocessing.LabelEncoder()\n",
        "for variable in categorical_variables:\n",
        "  data[variable] = label_encoder.fit_transform(data[variable])"
      ],
      "metadata": {
        "id": "JsO0bsm0pr_j"
      },
      "execution_count": null,
      "outputs": []
    },
    {
      "cell_type": "code",
      "source": [
        "data"
      ],
      "metadata": {
        "id": "JTpcmfWkp9Kx"
      },
      "execution_count": null,
      "outputs": []
    },
    {
      "cell_type": "code",
      "source": [
        "#let's keep exploring our data to make a heatmap. Can you figure out what this chart means, and why it might be helpful?\n",
        "\n",
        "plt.figure(figsize=(12,6))\n",
        "\n",
        "sns.heatmap(data.corr(), annot=True)"
      ],
      "metadata": {
        "id": "9nw2irmyqWR8"
      },
      "execution_count": null,
      "outputs": []
    },
    {
      "cell_type": "code",
      "source": [
        "#what do we do about the fact that there's some correlation (.53) between two of our variables?\n",
        "#tldr: we don't know. You might try it either way\n",
        "#correlated variables can be problematic, but we're not going to worry about it now (and it's not much of a correlation here, anyway)"
      ],
      "metadata": {
        "id": "k0N3De6K9p6l"
      },
      "execution_count": null,
      "outputs": []
    },
    {
      "cell_type": "markdown",
      "source": [
        "The time has come! It's time to train our model. First, we have to put the data into the types of groupings we need it in, to get ready\n",
        "\n",
        "We divide data up into a training set, and a testing set; let's talk about why..."
      ],
      "metadata": {
        "id": "p02oH-ySjqc8"
      }
    },
    {
      "cell_type": "code",
      "source": [
        "from sklearn.model_selection import train_test_split\n",
        "  \n",
        "X = data.drop(['Loan_Status'],axis=1)\n",
        "Y = data['Loan_Status']\n",
        "  \n",
        "X_train, X_test, Y_train, Y_test = train_test_split(X, Y,\n",
        "                                                    test_size=0.4,\n",
        "                                                    random_state=1)\n",
        "X_train.shape, X_test.shape, Y_train.shape, Y_test.shape"
      ],
      "metadata": {
        "id": "2_inYRM-uT6b"
      },
      "execution_count": null,
      "outputs": []
    },
    {
      "cell_type": "markdown",
      "source": [
        "Now that our data is all spplit up, time to train the model on our training sets. But wait! What kind of model should we use?\n",
        "\n",
        "This is a big issue, and it's called model selection\n",
        "\n",
        "A lot goes into model selection, but often we just test a lot of models and see which performs best (has the highest accuracy, or, gets most of the labels right)\n",
        "\n",
        "Let's try the training with a few models, and measure accuracy...\n",
        "\n",
        "But first, let's talk about what these models are. We're going to use three that are (sort of?) intuitive. K-Nearest neighbor model, random forest model, and decision tree. Let's talk about what they are, and then see which model performs best..."
      ],
      "metadata": {
        "id": "NJhGTGE3j65x"
      }
    },
    {
      "cell_type": "code",
      "source": [
        "#First we instantiate the models. This is basically just getting them ready to go/taking them off the shelf\n",
        "\n",
        "\n",
        "from sklearn.neighbors import KNeighborsClassifier\n",
        "from sklearn.ensemble import RandomForestClassifier\n",
        "from sklearn.tree import DecisionTreeClassifier\n",
        "  \n",
        "from sklearn import metrics\n",
        "  \n",
        "knn = KNeighborsClassifier(n_neighbors=3)\n",
        "rfc = RandomForestClassifier(n_estimators = 7,\n",
        "                             criterion = 'entropy',\n",
        "                             random_state =7)\n",
        "dt = DecisionTreeClassifier()\n",
        "  \n",
        "#in the real world you'd be tuning what are called parameters/hyperparameters. These are settings of the models you can control\n",
        "#For kneighbors the number of neighbors, e.g.\n",
        "#things like number of estimators in random forest (whole lot of decision trees, estimator number of trees)\n",
        "#for decision tree we can deicde the \"maximum depth\"; max_depth=)"
      ],
      "metadata": {
        "id": "BpIW94BSuoCX"
      },
      "execution_count": null,
      "outputs": []
    },
    {
      "cell_type": "code",
      "source": [
        "#training them and getting training score and testing score\n",
        "#the training score is the \"in sample\" accuracy score of training score; this means after we train them on the training set, we're testing their accuracy on the same set they were trained on\n",
        "#which is why decision tree, as we'll see, does so well, it will build a tree that works perfectly (or almost perfectly)\n",
        "#The testing score is he accuracy score on the new testing set\n",
        "\n",
        "#Which model works best???\n",
        "\n",
        "for clf in (rfc, knn, dt):\n",
        "    clf.fit(X_train, Y_train)\n",
        "    Y_pred = clf.predict(X_train)\n",
        "    print(\"Training accuracy score of \",\n",
        "          clf.__class__.__name__,\n",
        "          \"=\",100*metrics.accuracy_score(Y_train, \n",
        "                                         Y_pred))\n",
        "    Y_pred = clf.predict(X_test)\n",
        "    print(\"Testing accuracy score of \",\n",
        "          clf.__class__.__name__,\"=\",\n",
        "          100*metrics.accuracy_score(Y_test,\n",
        "                                    Y_pred))"
      ],
      "metadata": {
        "id": "jHSewcueDhfp"
      },
      "execution_count": null,
      "outputs": []
    },
    {
      "cell_type": "markdown",
      "source": [
        "But what on earth are these models doing? Let's take a look at the decision tree model to see a sample of one process"
      ],
      "metadata": {
        "id": "uvY7QjVbmM8W"
      }
    },
    {
      "cell_type": "code",
      "source": [
        "#import module to plot decision tree\n",
        "#dt is now the trained decision tree from the past cell (even though it was called clf in the loop)\n",
        "from sklearn.tree import plot_tree\n",
        "plt.figure(figsize=(60,40))\n",
        "plot_tree(dt, feature_names=X_train.columns, class_names = [\"yes\", \"no\"], fontsize=12);\n",
        "\n",
        "\n"
      ],
      "metadata": {
        "id": "UIp43f2qFF6E"
      },
      "execution_count": null,
      "outputs": []
    }
  ]
}